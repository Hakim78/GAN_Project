{
 "cells": [
  {
   "cell_type": "markdown",
   "id": "29d279a4",
   "metadata": {},
   "source": [
    "# Cellule 1 "
   ]
  },
  {
   "cell_type": "code",
   "execution_count": 1,
   "id": "41fb8880",
   "metadata": {},
   "outputs": [
    {
     "ename": "ModuleNotFoundError",
     "evalue": "No module named 'utils'",
     "output_type": "error",
     "traceback": [
      "\u001b[31m---------------------------------------------------------------------------\u001b[39m",
      "\u001b[31mModuleNotFoundError\u001b[39m                       Traceback (most recent call last)",
      "\u001b[36mCell\u001b[39m\u001b[36m \u001b[39m\u001b[32mIn[1]\u001b[39m\u001b[32m, line 1\u001b[39m\n\u001b[32m----> \u001b[39m\u001b[32m1\u001b[39m \u001b[38;5;28;01mfrom\u001b[39;00m\u001b[38;5;250m \u001b[39m\u001b[34;01mutils\u001b[39;00m\u001b[34;01m.\u001b[39;00m\u001b[34;01mdata_loader\u001b[39;00m\u001b[38;5;250m \u001b[39m\u001b[38;5;28;01mimport\u001b[39;00m load_celeba_dataset\n\u001b[32m      2\u001b[39m \u001b[38;5;28;01mimport\u001b[39;00m\u001b[38;5;250m \u001b[39m\u001b[34;01mmatplotlib\u001b[39;00m\u001b[34;01m.\u001b[39;00m\u001b[34;01mpyplot\u001b[39;00m\u001b[38;5;250m \u001b[39m\u001b[38;5;28;01mas\u001b[39;00m\u001b[38;5;250m \u001b[39m\u001b[34;01mplt\u001b[39;00m\n\u001b[32m      3\u001b[39m \u001b[38;5;28;01mimport\u001b[39;00m\u001b[38;5;250m \u001b[39m\u001b[34;01mtensorflow\u001b[39;00m\u001b[38;5;250m \u001b[39m\u001b[38;5;28;01mas\u001b[39;00m\u001b[38;5;250m \u001b[39m\u001b[34;01mtf\u001b[39;00m \n",
      "\u001b[31mModuleNotFoundError\u001b[39m: No module named 'utils'"
     ]
    }
   ],
   "source": [
    "from utils.data_loader import load_celeba_dataset\n",
    "import matplotlib.pyplot as plt\n",
    "import tensorflow as tf "
   ]
  },
  {
   "cell_type": "markdown",
   "id": "bb26a529",
   "metadata": {},
   "source": [
    "# Cellule 2"
   ]
  },
  {
   "cell_type": "code",
   "execution_count": 2,
   "id": "d3e1538b",
   "metadata": {},
   "outputs": [
    {
     "ename": "NameError",
     "evalue": "name 'load_celeba_dataset' is not defined",
     "output_type": "error",
     "traceback": [
      "\u001b[31m---------------------------------------------------------------------------\u001b[39m",
      "\u001b[31mNameError\u001b[39m                                 Traceback (most recent call last)",
      "\u001b[36mCell\u001b[39m\u001b[36m \u001b[39m\u001b[32mIn[2]\u001b[39m\u001b[32m, line 1\u001b[39m\n\u001b[32m----> \u001b[39m\u001b[32m1\u001b[39m dataset = \u001b[43mload_celeba_dataset\u001b[49m()\n",
      "\u001b[31mNameError\u001b[39m: name 'load_celeba_dataset' is not defined"
     ]
    }
   ],
   "source": [
    "dataset = load_celeba_dataset()"
   ]
  },
  {
   "cell_type": "markdown",
   "id": "48949c97",
   "metadata": {},
   "source": [
    "# Cellule 3"
   ]
  },
  {
   "cell_type": "code",
   "execution_count": 3,
   "id": "9be5850d",
   "metadata": {},
   "outputs": [
    {
     "ename": "NameError",
     "evalue": "name 'dataset' is not defined",
     "output_type": "error",
     "traceback": [
      "\u001b[31m---------------------------------------------------------------------------\u001b[39m",
      "\u001b[31mNameError\u001b[39m                                 Traceback (most recent call last)",
      "\u001b[36mCell\u001b[39m\u001b[36m \u001b[39m\u001b[32mIn[3]\u001b[39m\u001b[32m, line 1\u001b[39m\n\u001b[32m----> \u001b[39m\u001b[32m1\u001b[39m \u001b[38;5;28;01mfor\u001b[39;00m images \u001b[38;5;129;01min\u001b[39;00m \u001b[43mdataset\u001b[49m.take(\u001b[32m1\u001b[39m):\n\u001b[32m      2\u001b[39m     fig, axes = plt.subplots(\u001b[32m4\u001b[39m,\u001b[32m4\u001b[39m, figsize=(\u001b[32m10\u001b[39m, \u001b[32m10\u001b[39m))\n\u001b[32m      3\u001b[39m     axes = axes.flatten()\n",
      "\u001b[31mNameError\u001b[39m: name 'dataset' is not defined"
     ]
    }
   ],
   "source": [
    "for images in dataset.take(1):\n",
    "    fig, axes = plt.subplots(4,4, figsize=(10, 10))\n",
    "    axes = axes.flatten()\n",
    "\n",
    "    for i in range(16):\n",
    "        img = (images[i] + 1) / 2  # Dénormalisation\n",
    "        axes[i].imshow(img)\n",
    "        axes[i].axis('off')\n",
    "    \n",
    "    plt.suptitle('Échantillon du dataset CelebA')\n",
    "    plt.tight_layout()\n",
    "    plt.show()"
   ]
  }
 ],
 "metadata": {
  "kernelspec": {
   "display_name": "venv",
   "language": "python",
   "name": "python3"
  },
  "language_info": {
   "codemirror_mode": {
    "name": "ipython",
    "version": 3
   },
   "file_extension": ".py",
   "mimetype": "text/x-python",
   "name": "python",
   "nbconvert_exporter": "python",
   "pygments_lexer": "ipython3",
   "version": "3.12.6"
  }
 },
 "nbformat": 4,
 "nbformat_minor": 5
}
