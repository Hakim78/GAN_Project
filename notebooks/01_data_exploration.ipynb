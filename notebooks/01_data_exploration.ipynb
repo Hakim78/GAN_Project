{
 "cells": [
  {
   "cell_type": "markdown",
   "id": "29d279a4",
   "metadata": {},
   "source": [
    "# Cellule 1 "
   ]
  },
  {
   "cell_type": "code",
   "execution_count": null,
   "id": "41fb8880",
   "metadata": {},
   "outputs": [],
   "source": [
    "from utils.data_loader import load_celeba_dataset\n",
    "import matplotlib.pyplot as plt\n",
    "import tensorflow as tf "
   ]
  },
  {
   "cell_type": "markdown",
   "id": "bb26a529",
   "metadata": {},
   "source": [
    "# Cellule 2"
   ]
  },
  {
   "cell_type": "code",
   "execution_count": null,
   "id": "d3e1538b",
   "metadata": {},
   "outputs": [],
   "source": [
    "dataset = load_celeba_dataset()"
   ]
  },
  {
   "cell_type": "markdown",
   "id": "48949c97",
   "metadata": {},
   "source": [
    "# Cellule 3"
   ]
  },
  {
   "cell_type": "code",
   "execution_count": null,
   "id": "9be5850d",
   "metadata": {},
   "outputs": [],
   "source": [
    "for images in dataset.take(1):\n",
    "    fig, axes = plt.subplots(4,4, figsize=(10, 10))\n",
    "    axes = axes.flatten()\n",
    "\n",
    "    for i in range(16):\n",
    "        img = (images[i] + 1) / 2  # Dénormalisation\n",
    "        axes[i].imshow(img)\n",
    "        axes[i].axis('off')\n",
    "    \n",
    "    plt.suptitle('Échantillon du dataset CelebA')\n",
    "    plt.tight_layout()\n",
    "    plt.show()"
   ]
  }
 ],
 "metadata": {
  "language_info": {
   "name": "python"
  }
 },
 "nbformat": 4,
 "nbformat_minor": 5
}
