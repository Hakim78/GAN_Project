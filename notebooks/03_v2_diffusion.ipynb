{
 "cells": [
  {
   "cell_type": "markdown",
   "id": "9ec486c7",
   "metadata": {},
   "source": [
    "# 📘 Table des Matières — Notebook 03\n",
    "\n",
    "1. [Imports et Configuration](#Cellule-1---Imports-et-Configuration)\n",
    "2. [Fonctions Utilitaires](#Cellule-2---Fonctions-Utilitaires)\n",
    "3. [Chargement du Modèle V2 (GAN + CBAM)](#Cellule-3---Chargement-du-Modèle-V2-GAN--CBAM)\n",
    "4. [Génération d'Échantillons V2](#Cellule-4---Génération-d'Échantillons-V2)\n",
    "5. [Chargement du Modèle V3 (DDPM)](#Cellule-5---Chargement-du-Modèle-V3-DDPM)\n",
    "6. [Génération d'Échantillons V3 (Diffusion)](#Cellule-6---Génération-d'Échantillons-V3-Diffusion)\n",
    "7. [Comparaison Visuelle Directe](#Cellule-7---Comparaison-Visuelle-Directe)\n",
    "8. [Analyse Statistique des Générations](#Cellule-8---Analyse-Statistique-des-Générations)\n",
    "9. [Analyse de Diversité des Générations](#Cellule-9---Analyse-de-Diversité-des-Générations)\n",
    "10. [Conclusions et Observations](#Cellule-10---Conclusions-et-Observations)\n"
   ]
  },
  {
   "cell_type": "markdown",
   "id": "cc5c4a14",
   "metadata": {},
   "source": [
    "# Notebook 03 - GAN V2 avec Attention et Modèle de Diffusion\n",
    "\n",
    "Dans ce notebook, j'analyse et compare les performances de mes modèles V2 (GAN + CBAM) et V3 (DDPM).\n",
    "\n",
    "**Objectifs :**\n",
    "- Charger les modèles entraînés V2 et V3\n",
    "- Générer des échantillons avec chaque architecture\n",
    "- Visualiser les différences qualitatives\n",
    "- Comparer les métriques de performance\n"
   ]
  },
  {
   "cell_type": "markdown",
   "id": "5b4e3cb0",
   "metadata": {},
   "source": [
    "## Cellule 1 - Imports et Configuration\n"
   ]
  },
  {
   "cell_type": "code",
   "execution_count": null,
   "id": "6d9ab110",
   "metadata": {},
   "outputs": [],
   "source": [
    "import os\n",
    "import sys\n",
    "import numpy as np\n",
    "import matplotlib.pyplot as plt\n",
    "import tensorflow as tf\n",
    "from pathlib import Path\n",
    "\n",
    "# J'ajoute le chemin racine pour importer mes modules\n",
    "sys.path.append(str(Path.cwd().parent))\n",
    "\n",
    "from models.generator_attention import build_generator_attention\n",
    "from models.diffusion import build_unet_conditional, generate_samples\n",
    "from utils.attributes import sample_random_attributes\n",
    "from utils.config import *\n",
    "\n",
    "print(f\"TensorFlow version: {tf.__version__}\")\n",
    "print(f\"GPU disponible: {tf.config.list_physical_devices('GPU')}\")\n"
   ]
  },
  {
   "cell_type": "markdown",
   "id": "d104407c",
   "metadata": {},
   "source": [
    "## Cellule 2 - Fonctions Utilitaires\n"
   ]
  },
  {
   "cell_type": "code",
   "execution_count": null,
   "id": "f3ad2f1e",
   "metadata": {},
   "outputs": [],
   "source": [
    "def denormalize_images(images):\n",
    "    \"\"\"\n",
    "    Je dénormalise les images de [-1, 1] vers [0, 1] pour affichage.\n",
    "    \"\"\"\n",
    "    return (images + 1.0) / 2.0\n",
    "\n",
    "def plot_image_grid(images, title, rows=4, cols=4, figsize=(12, 12)):\n",
    "    \"\"\"\n",
    "    J'affiche une grille d'images avec un titre personnalisé.\n",
    "    \"\"\"\n",
    "    fig, axes = plt.subplots(rows, cols, figsize=figsize)\n",
    "    axes = axes.flatten()\n",
    "    \n",
    "    images_denorm = denormalize_images(images[:rows*cols])\n",
    "    \n",
    "    for i, (ax, img) in enumerate(zip(axes, images_denorm)):\n",
    "        ax.imshow(np.clip(img, 0, 1))\n",
    "        ax.axis('off')\n",
    "        ax.set_title(f'Sample {i+1}', fontsize=8)\n",
    "    \n",
    "    plt.suptitle(title, fontsize=16, fontweight='bold', y=0.98)\n",
    "    plt.tight_layout()\n",
    "    plt.show()\n",
    "\n",
    "def compare_models_side_by_side(v2_images, v3_images, num_pairs=4):\n",
    "    \"\"\"\n",
    "    Je compare côte à côte des échantillons V2 et V3.\n",
    "    \"\"\"\n",
    "    fig, axes = plt.subplots(num_pairs, 2, figsize=(8, num_pairs*2))\n",
    "    \n",
    "    v2_denorm = denormalize_images(v2_images[:num_pairs])\n",
    "    v3_denorm = denormalize_images(v3_images[:num_pairs])\n",
    "    \n",
    "    for i in range(num_pairs):\n",
    "        axes[i, 0].imshow(np.clip(v2_denorm[i], 0, 1))\n",
    "        axes[i, 0].set_title('V2 (GAN + CBAM)', fontweight='bold')\n",
    "        axes[i, 0].axis('off')\n",
    "        \n",
    "        axes[i, 1].imshow(np.clip(v3_denorm[i], 0, 1))\n",
    "        axes[i, 1].set_title('V3 (DDPM)', fontweight='bold')\n",
    "        axes[i, 1].axis('off')\n",
    "    \n",
    "    plt.suptitle('Comparaison Directe V2 vs V3', fontsize=14, fontweight='bold')\n",
    "    plt.tight_layout()\n",
    "    plt.show()\n",
    "\n",
    "print(\"Fonctions utilitaires chargées avec succès\")\n"
   ]
  },
  {
   "cell_type": "markdown",
   "id": "1f6f4a50",
   "metadata": {},
   "source": [
    "## Cellule 3 - Chargement du Modèle V2 (GAN + CBAM)\n"
   ]
  },
  {
   "cell_type": "code",
   "execution_count": null,
   "id": "10b8ce4f",
   "metadata": {},
   "outputs": [],
   "source": [
    "# Je charge le générateur V2 avec attention\n",
    "v2_checkpoint_path = '../outputs/checkpoints_v2/generator_final.h5'\n",
    "\n",
    "if os.path.exists(v2_checkpoint_path):\n",
    "    print(\"Chargement du générateur V2...\")\n",
    "    generator_v2 = build_generator_attention()\n",
    "    generator_v2.load_weights(v2_checkpoint_path)\n",
    "    print(f\"Modèle V2 chargé: {generator_v2.count_params():,} paramètres\")\n",
    "    generator_v2.summary()\n",
    "else:\n",
    "    print(f\"ERREUR: Checkpoint V2 introuvable à {v2_checkpoint_path}\")\n",
    "    print(\"Je dois d'abord entraîner le modèle V2 avec training/train_gan_attention.py\")\n"
   ]
  },
  {
   "cell_type": "markdown",
   "id": "3a9ee0e4",
   "metadata": {},
   "source": [
    "## Cellule 4 - Génération d'Échantillons V2\n"
   ]
  },
  {
   "cell_type": "code",
   "execution_count": null,
   "id": "9ce52792",
   "metadata": {},
   "outputs": [],
   "source": [
    "# Je génère 16 images avec V2\n",
    "num_samples = 16\n",
    "noise_v2 = np.random.randn(num_samples, NOISE_DIM).astype('float32')\n",
    "\n",
    "print(\"Génération en cours avec V2 (GAN + CBAM)...\")\n",
    "v2_generated = generator_v2.predict(noise_v2, verbose=0)\n",
    "print(f\"Shape des images générées: {v2_generated.shape}\")\n",
    "print(f\"Plage de valeurs: [{v2_generated.min():.3f}, {v2_generated.max():.3f}]\")\n",
    "\n",
    "# J'affiche la grille\n",
    "plot_image_grid(v2_generated, 'Génération V2 - GAN avec Attention CBAM', rows=4, cols=4)\n"
   ]
  },
  {
   "cell_type": "markdown",
   "id": "48517e35",
   "metadata": {},
   "source": [
    "## Cellule 5 - Chargement du Modèle V3 (DDPM)\n"
   ]
  },
  {
   "cell_type": "code",
   "execution_count": null,
   "id": "3ba49c3b",
   "metadata": {},
   "outputs": [],
   "source": [
    "# Je charge le U-Net conditionnel V3\n",
    "v3_checkpoint_path = '../outputs/checkpoints_v3/unet_final.h5'\n",
    "\n",
    "if os.path.exists(v3_checkpoint_path):\n",
    "    print(\"Chargement du U-Net V3...\")\n",
    "    unet_v3 = build_unet_conditional()\n",
    "    unet_v3.load_weights(v3_checkpoint_path)\n",
    "    print(f\"Modèle V3 chargé: {unet_v3.count_params():,} paramètres\")\n",
    "    unet_v3.summary()\n",
    "else:\n",
    "    print(f\"ERREUR: Checkpoint V3 introuvable à {v3_checkpoint_path}\")\n",
    "    print(\"Je dois d'abord entraîner le modèle V3 avec training/train_ddpm.py\")\n"
   ]
  },
  {
   "cell_type": "markdown",
   "id": "1f9836e8",
   "metadata": {},
   "source": [
    "## Cellule 6 - Génération d'Échantillons V3 (Diffusion)\n",
    "\n",
    "**Note :** la génération avec DDPM est plus lente car elle nécessite 1000 étapes de débruitage itératif.\n"
   ]
  },
  {
   "cell_type": "code",
   "execution_count": null,
   "id": "b7f1428a",
   "metadata": {},
   "outputs": [],
   "source": [
    "# Je génère des attributs aléatoires pour le conditionnement\n",
    "v3_attributes = sample_random_attributes(num_samples, seed=42)\n",
    "v3_attributes_tensor = tf.constant(v3_attributes, dtype=tf.float32)\n",
    "\n",
    "print(\"Génération en cours avec V3 (DDPM - cela peut prendre 1-2 minutes)...\")\n",
    "import time\n",
    "start_time = time.time()\n",
    "\n",
    "v3_generated = generate_samples(unet_v3, num_samples, v3_attributes_tensor)\n",
    "\n",
    "elapsed = time.time() - start_time\n",
    "print(f\"Génération terminée en {elapsed:.2f}s ({elapsed/num_samples:.2f}s par image)\")\n",
    "print(f\"Shape des images générées: {v3_generated.shape}\")\n",
    "print(f\"Plage de valeurs: [{v3_generated.numpy().min():.3f}, {v3_generated.numpy().max():.3f}]\")\n",
    "\n",
    "# J'affiche la grille\n",
    "plot_image_grid(v3_generated.numpy(), 'Génération V3 - Modèle de Diffusion DDPM', rows=4, cols=4)\n"
   ]
  },
  {
   "cell_type": "markdown",
   "id": "48f171ad",
   "metadata": {},
   "source": [
    "## Cellule 7 - Comparaison Visuelle Directe\n"
   ]
  },
  {
   "cell_type": "code",
   "execution_count": null,
   "id": "2d27ed11",
   "metadata": {},
   "outputs": [],
   "source": [
    "# Je compare 4 paires d'images côte à côte\n",
    "compare_models_side_by_side(v2_generated, v3_generated.numpy(), num_pairs=4)\n"
   ]
  },
  {
   "cell_type": "markdown",
   "id": "305cf043",
   "metadata": {},
   "source": [
    "## Cellule 8 - Analyse Statistique des Générations\n"
   ]
  },
  {
   "cell_type": "code",
   "execution_count": null,
   "id": "4ba64c77",
   "metadata": {},
   "outputs": [],
   "source": [
    "# J'analyse les statistiques des pixels générés\n",
    "v2_stats = {\n",
    "    'mean': np.mean(v2_generated),\n",
    "    'std': np.std(v2_generated),\n",
    "    'min': np.min(v2_generated),\n",
    "    'max': np.max(v2_generated)\n",
    "}\n",
    "\n",
    "v3_stats = {\n",
    "    'mean': np.mean(v3_generated.numpy()),\n",
    "    'std': np.std(v3_generated.numpy()),\n",
    "    'min': np.min(v3_generated.numpy()),\n",
    "    'max': np.max(v3_generated.numpy())\n",
    "}\n",
    "\n",
    "# J'affiche les statistiques\n",
    "fig, axes = plt.subplots(1, 2, figsize=(14, 5))\n",
    "\n",
    "# Histogramme V2\n",
    "axes[0].hist(v2_generated.flatten(), bins=50, color='blue', alpha=0.7, edgecolor='black')\n",
    "axes[0].set_title('Distribution des Pixels V2 (GAN + CBAM)', fontweight='bold')\n",
    "axes[0].set_xlabel('Valeur du pixel')\n",
    "axes[0].set_ylabel('Fréquence')\n",
    "axes[0].axvline(v2_stats['mean'], color='red', linestyle='--', linewidth=2, label=f\"Moyenne: {v2_stats['mean']:.3f}\")\n",
    "axes[0].legend()\n",
    "axes[0].grid(axis='y', alpha=0.3)\n",
    "\n",
    "# Histogramme V3\n",
    "axes[1].hist(v3_generated.numpy().flatten(), bins=50, color='green', alpha=0.7, edgecolor='black')\n",
    "axes[1].set_title('Distribution des Pixels V3 (DDPM)', fontweight='bold')\n",
    "axes[1].set_xlabel('Valeur du pixel')\n",
    "axes[1].set_ylabel('Fréquence')\n",
    "axes[1].axvline(v3_stats['mean'], color='red', linestyle='--', linewidth=2, label=f\"Moyenne: {v3_stats['mean']:.3f}\")\n",
    "axes[1].legend()\n",
    "axes[1].grid(axis='y', alpha=0.3)\n",
    "\n",
    "plt.tight_layout()\n",
    "plt.show()\n",
    "\n",
    "# J'affiche le tableau comparatif\n",
    "print(\"\\n\" + \"=\"*60)\n",
    "print(\"COMPARAISON STATISTIQUE V2 vs V3\")\n",
    "print(\"=\"*60)\n",
    "print(f\"{'Métrique':<15} {'V2 (GAN+CBAM)':<20} {'V3 (DDPM)':<20}\")\n",
    "print(\"-\"*60)\n",
    "print(f\"{'Moyenne':<15} {v2_stats['mean']:<20.4f} {v3_stats['mean']:<20.4f}\")\n",
    "print(f\"{'Écart-type':<15} {v2_stats['std']:<20.4f} {v3_stats['std']:<20.4f}\")\n",
    "print(f\"{'Minimum':<15} {v2_stats['min']:<20.4f} {v3_stats['min']:<20.4f}\")\n",
    "print(f\"{'Maximum':<15} {v2_stats['max']:<20.4f} {v3_stats['max']:<20.4f}\")\n",
    "print(\"=\"*60)\n"
   ]
  },
  {
   "cell_type": "markdown",
   "id": "bce6deb0",
   "metadata": {},
   "source": [
    "## Cellule 9 - Analyse de Diversité des Générations\n"
   ]
  },
  {
   "cell_type": "code",
   "execution_count": null,
   "id": "db57ec1f",
   "metadata": {},
   "outputs": [],
   "source": [
    "# Je calcule la diversité en mesurant les différences entre échantillons\n",
    "def calculate_diversity(images):\n",
    "    \"\"\"\n",
    "    Je calcule la diversité comme l'écart-type moyen entre toutes les paires d'images.\n",
    "    Plus le score est élevé, plus les images sont différentes les unes des autres.\n",
    "    \"\"\"\n",
    "    n = images.shape[0]\n",
    "    differences = []\n",
    "    \n",
    "    for i in range(n):\n",
    "        for j in range(i+1, n):\n",
    "            diff = np.mean(np.abs(images[i] - images[j]))\n",
    "            differences.append(diff)\n",
    "    \n",
    "    return np.mean(differences), np.std(differences)\n",
    "\n",
    "v2_diversity_mean, v2_diversity_std = calculate_diversity(v2_generated)\n",
    "v3_diversity_mean, v3_diversity_std = calculate_diversity(v3_generated.numpy())\n",
    "\n",
    "# Je visualise la comparaison\n",
    "fig, ax = plt.subplots(figsize=(10, 6))\n",
    "\n",
    "models = ['V2 (GAN+CBAM)', 'V3 (DDPM)']\n",
    "diversity_means = [v2_diversity_mean, v3_diversity_mean]\n",
    "diversity_stds = [v2_diversity_std, v3_diversity_std]\n",
    "\n",
    "x_pos = np.arange(len(models))\n",
    "colors = ['#1f77b4', '#2ca02c']\n",
    "\n",
    "bars = ax.bar(x_pos, diversity_means, yerr=diversity_stds, \n",
    "              capsize=10, color=colors, alpha=0.7, edgecolor='black', linewidth=1.5)\n",
    "\n",
    "# J'ajoute les valeurs sur les barres\n",
    "for i, (bar, mean, std) in enumerate(zip(bars, diversity_means, diversity_stds)):\n",
    "    height = bar.get_height()\n",
    "    ax.text(bar.get_x() + bar.get_width()/2., height + std,\n",
    "            f'{mean:.4f}\\n±{std:.4f}',\n",
    "            ha='center', va='bottom', fontweight='bold', fontsize=10)\n",
    "\n",
    "ax.set_ylabel('Score de Diversité (Distance Moyenne)', fontsize=12, fontweight='bold')\n",
    "ax.set_title('Comparaison de la Diversité des Générations\\n(Plus haut = Plus de variabilité)', \n",
    "             fontsize=14, fontweight='bold', pad=20)\n",
    "ax.set_xticks(x_pos)\n",
    "ax.set_xticklabels(models, fontsize=11, fontweight='bold')\n",
    "ax.grid(axis='y', alpha=0.3, linestyle='--')\n",
    "ax.set_axisbelow(True)\n",
    "\n",
    "plt.tight_layout()\n",
    "plt.show()\n",
    "\n",
    "print(f\"\\nScore de diversité V2: {v2_diversity_mean:.4f} ± {v2_diversity_std:.4f}\")\n",
    "print(f\"Score de diversité V3: {v3_diversity_mean:.4f} ± {v3_diversity_std:.4f}\")\n",
    "\n",
    "if v3_diversity_mean > v2_diversity_mean:\n",
    "    print(\"\\nRésultat: V3 génère des visages plus diversifiés que V2\")\n",
    "else:\n",
    "    print(\"\\nRésultat: V2 génère des visages plus diversifiés que V3\")\n"
   ]
  },
  {
   "cell_type": "markdown",
   "id": "31467361",
   "metadata": {},
   "source": [
    "## Cellule 10 - Conclusions et Observations\n"
   ]
  },
  {
   "cell_type": "code",
   "execution_count": null,
   "id": "6ff04c62",
   "metadata": {},
   "outputs": [],
   "source": [
    "# Je sauvegarde mes résultats pour le rapport final\n",
    "results = {\n",
    "    'v2_stats': v2_stats,\n",
    "    'v3_stats': v3_stats,\n",
    "    'v2_diversity': {'mean': float(v2_diversity_mean), 'std': float(v2_diversity_std)},\n",
    "    'v3_diversity': {'mean': float(v3_diversity_mean), 'std': float(v3_diversity_std)}\n",
    "}\n",
    "\n",
    "import json\n",
    "output_path = '../outputs/comparison_v2_v3.json'\n",
    "with open(output_path, 'w') as f:\n",
    "    json.dump(results, f, indent=2)\n",
    "\n",
    "print(f\"\\nRésultats sauvegardés dans {output_path}\")\n",
    "print(\"\\nNotebook 03 terminé avec succès !\")\n"
   ]
  }
 ],
 "metadata": {
  "kernelspec": {
   "display_name": "venv",
   "language": "python",
   "name": "python3"
  },
  "language_info": {
   "codemirror_mode": {
    "name": "ipython",
    "version": 3
   },
   "file_extension": ".py",
   "mimetype": "text/x-python",
   "name": "python",
   "nbconvert_exporter": "python",
   "pygments_lexer": "ipython3",
   "version": "3.12.6"
  }
 },
 "nbformat": 4,
 "nbformat_minor": 5
}
